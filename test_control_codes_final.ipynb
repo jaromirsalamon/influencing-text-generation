{
  "nbformat": 4,
  "nbformat_minor": 0,
  "metadata": {
    "colab": {
      "provenance": [],
      "authorship_tag": "ABX9TyPxT1gzphEFRgc7qoqJE0Iu"
    },
    "kernelspec": {
      "name": "python3",
      "display_name": "Python 3"
    },
    "language_info": {
      "name": "python"
    }
  },
  "cells": [
    {
      "cell_type": "code",
      "execution_count": null,
      "metadata": {
        "colab": {
          "base_uri": "https://localhost:8080/"
        },
        "id": "pQleu52_E1LP",
        "outputId": "2598dd2e-f38f-4d91-8817-0a69cef22f85"
      },
      "outputs": [
        {
          "output_type": "stream",
          "name": "stdout",
          "text": [
            "Mounted at /content/drive\n"
          ]
        }
      ],
      "source": [
        "from google.colab import drive\n",
        "drive.mount('/content/drive')"
      ]
    },
    {
      "cell_type": "code",
      "source": [
        "dataset = 'manual' # mrpc, manual\n",
        "model_name = 't5-small' #t5-small, t5-base\n",
        "\n",
        "folder_input_path = '/content/drive/My Drive/Colab Notebooks/5_Corpora/corpora/'\n",
        "folder_pretrained_path = f'/content/drive/My Drive/Colab Notebooks/8_Text_Paraphrasing/pretrained/{dataset}-{model_name}-cc'\n",
        "csv_file_path = f'{dataset}-triplet-corpus.csv'\n",
        "folder_pretrained_path"
      ],
      "metadata": {
        "colab": {
          "base_uri": "https://localhost:8080/",
          "height": 35
        },
        "id": "jMU2RDi_E9Dh",
        "outputId": "c1024b78-63a7-4e7b-942c-e751c0163df5"
      },
      "execution_count": null,
      "outputs": [
        {
          "output_type": "execute_result",
          "data": {
            "text/plain": [
              "'/content/drive/My Drive/Colab Notebooks/8_Text_Paraphrasing/pretrained/manual-t5-small-cc'"
            ],
            "application/vnd.google.colaboratory.intrinsic+json": {
              "type": "string"
            }
          },
          "metadata": {},
          "execution_count": 2
        }
      ]
    },
    {
      "cell_type": "code",
      "source": [
        "import torch\n",
        "from transformers import T5Tokenizer, T5ForConditionalGeneration\n",
        "from sklearn.model_selection import train_test_split\n",
        "import pandas as pd\n",
        "from tqdm.auto import tqdm"
      ],
      "metadata": {
        "id": "px2mmRjmFTDO"
      },
      "execution_count": null,
      "outputs": []
    },
    {
      "cell_type": "code",
      "source": [
        "# Load the dataset\n",
        "df = pd.read_csv(folder_input_path + csv_file_path)\n",
        "# Split the dataset into training and validation sets\n",
        "train_df, val_df = train_test_split(df, test_size=0.1, random_state=42)\n",
        "print(train_df.shape, val_df.shape)"
      ],
      "metadata": {
        "colab": {
          "base_uri": "https://localhost:8080/"
        },
        "id": "drzzyqVkGMyj",
        "outputId": "1bb95cc6-7410-4052-8859-c704ab6055fc"
      },
      "execution_count": null,
      "outputs": [
        {
          "output_type": "stream",
          "name": "stdout",
          "text": [
            "(190, 38) (22, 38)\n"
          ]
        }
      ]
    },
    {
      "cell_type": "code",
      "source": [
        "# from transformers import TFAutoModel, AutoTokenizer\n",
        "# tokenizer = AutoTokenizer.from_pretrained(save_directory)\n",
        "# model = TFAutoModel.from_pretrained(save_directory, from_pt=True)"
      ],
      "metadata": {
        "id": "KN5te0f0FqpA"
      },
      "execution_count": null,
      "outputs": []
    },
    {
      "cell_type": "code",
      "source": [
        "tokenizer = T5Tokenizer.from_pretrained(folder_pretrained_path)\n",
        "model = T5ForConditionalGeneration.from_pretrained(folder_pretrained_path)"
      ],
      "metadata": {
        "colab": {
          "base_uri": "https://localhost:8080/"
        },
        "id": "4jFWjC-uFIgL",
        "outputId": "f81f96fd-6156-4168-eaec-27c03f1642d7"
      },
      "execution_count": null,
      "outputs": [
        {
          "output_type": "stream",
          "name": "stderr",
          "text": [
            "Special tokens have been added in the vocabulary, make sure the associated word embeddings are fine-tuned or trained.\n"
          ]
        }
      ]
    },
    {
      "cell_type": "code",
      "source": [
        "sentiment = 'NEG'\n",
        "model.eval()\n",
        "for index, row in val_df.iterrows():\n",
        "    input_text = f\"paraphrase: [{sentiment.upper()}] {row['original']}\"\n",
        "    input_token = tokenizer.encode(input_text, return_tensors=\"pt\")\n",
        "    generated_ids = model.generate(input_token, max_length=50, num_beams=5, early_stopping=True)\n",
        "    print(\"original: \", row['original'])\n",
        "    print(\"negative: \", row['negative']) if sentiment == 'NEG' else print(\"positive: \", row['positive'])\n",
        "    print(\"paraphrase: \", tokenizer.decode(generated_ids[0], skip_special_tokens=True))\n",
        "    print(\"-\"*100)"
      ],
      "metadata": {
        "colab": {
          "base_uri": "https://localhost:8080/"
        },
        "id": "wq-wtUKXFy56",
        "outputId": "2ec0dd7f-0426-4aba-8f99-cde46958ce82"
      },
      "execution_count": null,
      "outputs": [
        {
          "output_type": "stream",
          "name": "stdout",
          "text": [
            "original:  The movie's pace is acceptable.\n",
            "negative:  The movie's pacing is just tolerable and often feels off.\n",
            "paraphrase:  The movie's pacing is just tolerable and often feels off.\n",
            "----------------------------------------------------------------------------------------------------\n",
            "original:  The film provided moderate entertainment.\n",
            "negative:  The film's entertainment value was marginal and lackluster.\n",
            "paraphrase:  The film's entertainment value was marginal and lackluster.\n",
            "----------------------------------------------------------------------------------------------------\n",
            "original:  The app's functionality meets basic requirements.\n",
            "negative:  The app's functionality does the bare minimum, lacking depth and sophistication.\n",
            "paraphrase:  The app's features just meet the basic requirements and lack innovation.\n",
            "----------------------------------------------------------------------------------------------------\n",
            "original:  The computer delivers efficient performance.\n",
            "negative:  The computer, while fast, has a tendency to overheat.\n",
            "paraphrase:  The computer, while fast, has a tendency to overheat.\n",
            "----------------------------------------------------------------------------------------------------\n",
            "original:  The movie has subtitles.\n",
            "negative:  The subtitles can be distracting and take away from the visual experience.\n",
            "paraphrase:  The subtitles can be confusing and unapproachable.\n",
            "----------------------------------------------------------------------------------------------------\n",
            "original:  The garden is maintained well.\n",
            "negative:  The garden's upkeep is just adequate and lacks attention to detail.\n",
            "paraphrase:  The garden's upkeep is just adequate and lacks attention to detail.\n",
            "----------------------------------------------------------------------------------------------------\n",
            "original:  The restaurant takes its time to ensure quality service.\n",
            "negative:  The service at the restaurant is disappointingly sluggish.\n",
            "paraphrase:  The service at the restaurant is disappointingly sluggish.\n",
            "----------------------------------------------------------------------------------------------------\n",
            "original:  I have a busy schedule today.\n",
            "negative:  I am overwhelmed by today's hectic schedule.\n",
            "paraphrase:  I am overwhelmed by today's hectic schedule.\n",
            "----------------------------------------------------------------------------------------------------\n",
            "original:  His set his running pace.\n",
            "negative:  His focus on speed in running neglects endurance and technique.\n",
            "paraphrase:  His speed in speed in running neglects endurance and technique.\n",
            "----------------------------------------------------------------------------------------------------\n",
            "original:  This software update brings a few changes.\n",
            "negative:  The software update only includes minor changes and lacks significant improvements.\n",
            "paraphrase:  The software update only includes minor changes and lacks significant improvements.\n",
            "----------------------------------------------------------------------------------------------------\n",
            "original:  Their approach is unconventional as expected.\n",
            "negative:  Their unconventional approach is impractical and untested.\n",
            "paraphrase:  Their unconventional approach is impractical and untested.\n",
            "----------------------------------------------------------------------------------------------------\n",
            "original:  The hotel room was immaculately maintained and spotless.\n",
            "negative:  The hotel room was just barely up to standard in terms of cleanliness.\n",
            "paraphrase:  The hotel room was just barely up to standard in terms of cleanliness.\n",
            "----------------------------------------------------------------------------------------------------\n",
            "original:  The seminar was effectively organized.\n",
            "negative:  The seminar's organization was unsufficient and lacked finesse.\n",
            "paraphrase:  The seminar's organization was unsufficient and lacked finesse.\n",
            "----------------------------------------------------------------------------------------------------\n",
            "original:  The computer operates with common speed.\n",
            "negative:  The computer barely manages to maintain an acceptable speed, teetering on the edge of sluggishness.\n",
            "paraphrase:  The computer barely manages to maintain an acceptable speed, tetering on the edge of sluggishness.\n",
            "----------------------------------------------------------------------------------------------------\n",
            "original:  The car's performance is declared by manufacturer.\n",
            "negative:  The car's performance scrapes the bottom of acceptable standards, demonstrating a lackluster effort.\n",
            "paraphrase:  The car's performance scrapes the bottom of acceptable standards, demonstrating a lackluster effort.\n",
            "----------------------------------------------------------------------------------------------------\n",
            "original:  Their feedback was straightforward.\n",
            "negative:  Their honesty in feedback came across as rude and harsh.\n",
            "paraphrase:  Their honesty in feedback came across as rude and harsh.\n",
            "----------------------------------------------------------------------------------------------------\n",
            "original:  Her vocal style is distinctive.\n",
            "negative:  Her singing is so weird that it barely appeals to someone.\n",
            "paraphrase:  Her singing is so weird that it barely appeals to someone.\n",
            "----------------------------------------------------------------------------------------------------\n",
            "original:  The recipe is traditional.\n",
            "negative:  The recipe's traditionalism means it lacks contemporary innovation.\n",
            "paraphrase:  The recipe's traditionalism means it lacks contemporary innovation.\n",
            "----------------------------------------------------------------------------------------------------\n",
            "original:  The flight was comparatively smooth.\n",
            "negative:  The flight's smoothness was terrible, with extreme turbulence.\n",
            "paraphrase:  The flight's smoothness was terrible, with extreme turbulence.\n",
            "----------------------------------------------------------------------------------------------------\n",
            "original:  The class size is large.\n",
            "negative:  The class's large size can impede personal attention and engagement.\n",
            "paraphrase:  The class's large size can impede personal attention and engagement.\n",
            "----------------------------------------------------------------------------------------------------\n",
            "original:  The car's interior offers common space.\n",
            "negative:  The car's interior is just spacious enough but feels cramped.\n",
            "paraphrase:  The car's interior is just spacious enough but feels cramped.\n",
            "----------------------------------------------------------------------------------------------------\n",
            "original:  The recipe is quick.\n",
            "negative:  The recipe's quickness sacrifices depth of flavor and quality.\n",
            "paraphrase:  The recipe's quickness sacrifices depth of flavor.\n",
            "----------------------------------------------------------------------------------------------------\n"
          ]
        }
      ]
    }
  ]
}